{
 "cells": [
  {
   "cell_type": "markdown",
   "id": "90fb77a1-2aec-4f4d-8f57-1c9239713fdc",
   "metadata": {},
   "source": [
    "# Trabajo Práctico de Laboratorio 2\n",
    "## Filtrado Digital\n",
    "### Revisión Septiembre 2023\n",
    "\n",
    "### Objetivos\n",
    "Consolidar los conceptos de los sistemas muestreados mediante el uso de ADC y DACs.\n",
    "Simular e implementar un filtro digital con el LPC1769 LPCXpresso.\n",
    "Familiarizarse con el uso de librerías para procesamiento digital de señales.\n",
    "Medir las partes de la función transferencia H[z] para frecuencias menores a 10 kHz.\n",
    "\n",
    "### Descripción\n",
    "\n",
    "El trabajo práctico consiste en el diseño, análisis, medición y discusión de un filtro digital. \n",
    "\n",
    "Las instrucciones pormenorizadas de lo que deberán realizar se encuentran en el Anexo.\n",
    "\n",
    "### Plantillas FIR:\n",
    "| Filtro   | Tipo           | Frecuencia de corte|Frecuencia de stop|Atenuación máxima en banda de paso|Atenuación mínima en banda de stop|\n",
    "|----------|----------------|--------------------|------------------|----------------------------------|----------------------------------|\n",
    "| A        | FIR Equiripple | $1kHz$             |$2kHz$            |$1dB$                             |$20dB$                            |\n",
    "\n",
    "   \n",
    "| Filtro   | Tipo              |Freq Pass Band 1|Att @FPB1 |Frec Stop Band |Att @FSB|Freq Pass Band 2|Att @FPB2|\n",
    "|----------|-------------------|----------------|----------|---------------|--------|----------------|---------|\n",
    "| B        | FIR Least Squares | $2kHz$         |$1dB$     |$4 a 6 kHz$    |$20dB$  |$8 kHz$         |$1 dB$   |\n",
    "\n",
    "### Plantilla IIR:\n",
    "| Filtro   | Tipo            | Frecuencia de corte|Frecuencia de stop|Atenuación máxima en banda de paso|Atenuación mínima en banda de stop|\n",
    "|----------|-----------------|--------------------|------------------|----------------------------------|----------------------------------|\n",
    "| C        | IIR Butterworth | $2kHz$             |$3kHz$            |$1dB$                             |$20dB$                            |\n",
    "\n",
    "<center>\n",
    "$@Fs 44.1 kHz @blocksize:1024$  \n",
    "</center>\n",
    "\n",
    "## Diseño de filtos:\n",
    "Para el diseño de los diseños digitales se utlizo la herramienta grafica proporcionada por Matlab, filter design. La misma pudo crear con exito los filtros digitales de las plantillas FIR pero tubo un inconveniente al momento de generar la plantilla IIR. El programa dado por la categra funciona con un punto fijo 1.31 el cual toma valores ente -1 y un numero cercano a 1, siento este rango de valores inferior a los coeficientes dados por el filtro IIR de matlab. Este problema se soluciono con la utlizacion de una funcion dada por la catedra la cual adaptaba este tipo de parametros a unos equivalentes pero de punto fijo 1.31.\n",
    "\n",
    "### Diseño FIR A:\n",
    "Como se mecniono anteriormente los filtros digitales diseñados se generaron con la herramienta filter design de matalab, a continuacion se mostrara los graficos de aplitud, desfasaje, retardo y plano z de cada filtro."
   ]
  },
  {
   "cell_type": "code",
   "execution_count": 28,
   "id": "f43ce1fd-ed8f-490c-98b4-30c38bde7b58",
   "metadata": {},
   "outputs": [
    {
     "data": {
      "text/html": [
       "\n",
       "        <iframe\n",
       "            width=\"1000\"\n",
       "            height=\"1000\"\n",
       "            src=\"PDF/FIR Equiripple.pdf\"\n",
       "            frameborder=\"0\"\n",
       "            allowfullscreen\n",
       "            \n",
       "        ></iframe>\n",
       "        "
      ],
      "text/plain": [
       "<IPython.lib.display.IFrame at 0x7fa0a4a78a60>"
      ]
     },
     "execution_count": 28,
     "metadata": {},
     "output_type": "execute_result"
    }
   ],
   "source": [
    "# Incorporacion y visualizacion de PDF\n",
    "from IPython.display import IFrame\n",
    "IFrame(\"PDF/FIR Equiripple.pdf\", width=1000, height=1000)"
   ]
  },
  {
   "cell_type": "markdown",
   "id": "85ac84fe-e634-4aa9-945a-62d0c1cb69f7",
   "metadata": {},
   "source": [
    "### Diseño FIR B:"
   ]
  },
  {
   "cell_type": "code",
   "execution_count": 26,
   "id": "61653431-e9a0-4231-9898-907db252fed6",
   "metadata": {},
   "outputs": [
    {
     "data": {
      "text/html": [
       "\n",
       "        <iframe\n",
       "            width=\"1000\"\n",
       "            height=\"1000\"\n",
       "            src=\"PDF/FIR Least Squares.pdf\"\n",
       "            frameborder=\"0\"\n",
       "            allowfullscreen\n",
       "            \n",
       "        ></iframe>\n",
       "        "
      ],
      "text/plain": [
       "<IPython.lib.display.IFrame at 0x7fa0a4a78610>"
      ]
     },
     "execution_count": 26,
     "metadata": {},
     "output_type": "execute_result"
    }
   ],
   "source": [
    "IFrame(\"PDF/FIR Least Squares.pdf\", width=1000, height=1000)"
   ]
  },
  {
   "cell_type": "markdown",
   "id": "26c41a6c-5c3a-4733-bed6-1aa63d0d9dfb",
   "metadata": {},
   "source": [
    "### Diseño IIR:"
   ]
  },
  {
   "cell_type": "code",
   "execution_count": 27,
   "id": "9ef0d4e8-3aed-455b-8554-a5db9f5578fc",
   "metadata": {},
   "outputs": [
    {
     "data": {
      "text/html": [
       "\n",
       "        <iframe\n",
       "            width=\"1000\"\n",
       "            height=\"1000\"\n",
       "            src=\"PDF/IRR Butterworth.pdf\"\n",
       "            frameborder=\"0\"\n",
       "            allowfullscreen\n",
       "            \n",
       "        ></iframe>\n",
       "        "
      ],
      "text/plain": [
       "<IPython.lib.display.IFrame at 0x7fa0a4a78370>"
      ]
     },
     "execution_count": 27,
     "metadata": {},
     "output_type": "execute_result"
    }
   ],
   "source": [
    "IFrame(\"PDF/IRR Butterworth.pdf\", width=1000, height=1000)"
   ]
  },
  {
   "attachments": {},
   "cell_type": "markdown",
   "id": "d96c3e26-0954-49cb-b1af-bb24866f8193",
   "metadata": {},
   "source": [
    "## Circuito de conexión:\n",
    "<div style=\"text-align:center;\">\n",
    "  <img src=\"Imagenes/img_1.png\" alt=\"cuadrado-ana\" width=\"800\"/>\n",
    "</div>\n",
    "  \n",
    "Para poder utilizar el filtro necesitaremos de la utilizacion de dos filtros analogicos los cuales atenuen lo suficiente las frecuencias por ensima de la frecuencia de nyquist debido a que los filtros digitales utilizan frecuencias acotadas y la aparecion de una señal superior a la de nyquist generaria ruido. Para solucionar este problema calculamos segun una relacion obtenida en clase la cual realciona la cantidad de bits y la atenuacion que debe existir en la frecuencia de nyquist($Ate = (6/2).Bits$) con la cual se obtuvo una requisito de 36dB. Para lograr esta atenuacion se requeriria un filtro de orden 4 dado a que concideramos que ese requisito es demaciado utilizamos un filtro de segundo orden sallen key el cual atenuaba 13dB en la precuencia de nyquist. A la salida del stick se coloco un filtro pasivo rc con el objetivo de suevisar las curvas y obtener una señal mas similar a la original.  \n",
    "  \n",
    "\n",
    "\n",
    "<div style=\"text-align:center;\">\n",
    "  <img src=\"Imagenes/circuito_activo.jpg\" alt=\"cuadrado-ana\" width=\"500\"/>\n",
    "</div>\n",
    "  \n",
    "  \n",
    "El dia del laboratorio el circuito salen key no funciono correctamente por lo que se tuvo que utilizar un filtro pasitvo tanto en la entrada como en la salida del stick.  \n",
    "\n",
    "<div style=\"text-align:center;\">\n",
    "  <img src=\"Imagenes/circuito_labo.png\" alt=\"cuadrado-ana\" width=\"500\"/>\n",
    "</div>\n",
    "  "
   ]
  },
  {
   "cell_type": "markdown",
   "id": "437ab356-f169-4456-8958-5ff51b291060",
   "metadata": {},
   "source": [
    "# Resultado de las mediciones (medicion manual):\n",
    "### Respuesta del sistema sin filtro:\n",
    "En el siguiente bode podremos observar como responde el circuito armado sin la utilizacion de ningun filtro digital, unicamente utilizando los filtros analogicos que el mismo tiene. Esto lo hacemos con el objetivo de tener un objeto de comparacion para poder analalizar luego la eficiencia y limitaciones de los filtro utilizados.\n",
    "(Debido a preblemas con el archivo csv no se pudo graficar los puntos con python, igualmente se encuentra en el sector de mediciones el mismo archivo. Los siguientes graficos fueron elavorados con Excel)\n",
    "<div style=\"text-align:center;\">\n",
    "  <img src=\"Imagenes/Bode-sin.png\" alt=\"cuadrado-ana\" width=\"500\"/>\n",
    "</div>\n",
    "\n",
    "\n",
    "En este diagrama podemos observar que el bode mantiene una amplitud practicamete lineal pero aproximadamente luego de las 10k comienza a baja debido a los efectos del filtro de anti-alias.\n",
    "## Resultados filtro FIR:\n",
    "En este caso nos econtramos con dos tipos de filtros FIR uno pasabajos equirriple y un elimina banda least squares.\n",
    "\n",
    "### Equiriple:\n",
    "Como se ve a continuacion y comparando con la simulacion dada anteriormente por matlab el filtro diseñado cumple con las exigencias pedidas, atenuacion de 20dB en 2kHz y con una ganancia practicamente unitaria en la banda de paso.\n",
    "<div style=\"text-align:center;\">\n",
    "  <img src=\"Imagenes/Bode-equi.png\" alt=\"cuadrado-ana\" width=\"500\"/>\n",
    "</div>\n",
    "\n",
    "\n",
    "### Least Squares:\n",
    "Por otro lado al analizar el filtro least squares encontramos que la banda de eliminacion se encuentra en la sona pedida atenuando los dB pedidos, 4kHz-6kHz 20dB, pero no cumple con el ripple en la banda de paso. Eso se debe a casa del primer filtro graficado, en el mismo podemos observar como los efectos del anti-alias atenuan el filtro para frecuencias cercanas a los 10kHz. Dado que el filtro funciona en para esas frecuencias al sumarse los efectos de ambos filtos, el analogico y el digital, el filtro analogico termina atenuando la banbda de paso del digital. Este efecto se pudo haber solucionado o atenuado aumentando la ganancia de esas frecuencias.\n",
    "<div style=\"text-align:center;\">\n",
    "  <img src=\"Imagenes/Bode-elimina-cuadrado.png\" alt=\"cuadrado-ana\" width=\"500\"/>\n",
    "</div>\n",
    "\n",
    "## Resultados filtro IIR:\n",
    "Al igual que con los filtros FIR la frecuencia de corte y la atenuacion pedida para el filtos IIR butter cumple, se pedia un filtro que atenuara 20dB entre los 2kHz y los 3kHz y se obtuvo un filtro que pudo atenuar 22dB en ese perido.\n",
    "<div style=\"text-align:center;\">\n",
    "  <img src=\"Imagenes/Bode-Butter.png\" alt=\"cuadrado-ana\" width=\"500\"/>\n",
    "</div>\n",
    "\n"
   ]
  },
  {
   "cell_type": "markdown",
   "id": "82b99b71-39bb-44f3-b787-ee64333bf513",
   "metadata": {},
   "source": [
    "# Resultado mediciones (Analisador de audio):\n",
    "En los siguientes graficos vamos a poder observar con una mayor clarirdad los puntos mencionados anteriormente debido a que el analizador de audio tomo una mayor cantidad de puntos.\n",
    "### Respuesta del sistema sin filtro:\n",
    "Al igual que mencionamos en el punto anterior podemos observar que el sistema sin filtros tiene una respuesta tipo pasa bajos en el cual alcanza una atenuacion de 15dB a los 10kHz. Esto tambien se pudo observar en las mediciones elaboradas a mano.\n",
    "<div style=\"text-align:center;\">\n",
    "  <img src=\"Mediciones/sin-filtro.jpeg\" alt=\"cuadrado-ana\" width=\"500\"/>\n",
    "</div>\n",
    "\n",
    "## Resultados filtro FIR:\n",
    "### Equiriple:\n",
    "En este caso se pueden observar una respuesta similar a la obtenida en mediciones a mano con la diferencia de la aparicion de un ripple en la region de atenuacion. Este mismo ripple se puede ver en la simulacion en matlab pero debido a la poca cantidad de puntos tomados a mano no se pudo ver en las mediciones anteriores.\n",
    "<div style=\"text-align:center;\">\n",
    "  <img src=\"Mediciones/equirriple.jpeg\" alt=\"cuadrado-ana\" width=\"500\"/>\n",
    "</div>\n",
    "\n",
    "\n",
    "### Least Squares:\n",
    "En estas mediciones se puede observar de mejor manera el efecto mencionado anteriormente, en el cual dijimos que la zona derecha del filtro no volvia a tener una atenuacion cercana a un dB como pedia la planilla. Esto se debe al efecto del filtro anti-alias mensionado anteriormente.\n",
    "<div style=\"text-align:center;\">\n",
    "  <img src=\"Mediciones/analisador_cuadrado.jpeg\" alt=\"cuadrado-ana\" width=\"500\"/>\n",
    "</div>\n",
    "\n",
    "\n",
    "## Resultados filtro IIR:\n",
    "En el siguiente grafico el analisador de audio muestra como el a filtro iir diseñado cumple la planilla pero actua de manera lijeramente distinta que en las mediciones, se puede observar que en el grafico anterior del filtro butterworth una pediente constante de atenuacion mientras en este caso se observa una pequeña traba. Creemos que este pequeña traba se debe a que el grafico mostrado anteriormente se encuentra con los ejes deformados haciendo que el mismo no este separado en decadas correctamente dando este efecto de traba.\n",
    "<div style=\"text-align:center;\">\n",
    "  <img src=\"Mediciones/butter.jpeg\" alt=\"cuadrado-ana\" width=\"500\"/>\n",
    "</div>\n",
    "\n"
   ]
  },
  {
   "cell_type": "markdown",
   "id": "7c2e7b6c-c710-4a0d-a9f0-7f8b24814254",
   "metadata": {},
   "source": [
    "# Mediciones en tiempo:\n",
    "A continuacion se mostrataran a cada filtro exitado por diferentes frecuencias y para observar la fidelidad del filtro y observar que tanto mantiene la señal inicial.\n",
    "\n",
    "## Sistema sin filtro\n",
    "A continuacion se mostraran la respues del filtro en tiempo al ser exitada por una frecuencia de 200Hz y 2kHz.\n",
    "<div style=\"text-align:center;\">\n",
    "  <img src=\"Imagenes/Frecuencias/sin-200hz.jpg\" alt=\"cuadrado-ana\" width=\"500\"/>\n",
    "</div>\n",
    "<div style=\"text-align:center;\">\n",
    "  <img src=\"Imagenes/Frecuencias/sin-2khz.jpg\" alt=\"cuadrado-ana\" width=\"500\"/>\n",
    "</div>\n",
    "\n",
    "En este caso se puede se puede observar que el sistema sin filtro mantiene la señal sin deformarla mucho, a excepcion de unos picos de tenciones.\n",
    "\n",
    "\n",
    "## Filtro FIR:\n",
    "### Equiriple:\n",
    "A continuacion se mostraran la respues del filtro en tiempo al ser exitada por una frecuencia de 500Hz y 2kHz.\n",
    "<div style=\"text-align:center;\">\n",
    "  <img src=\"Imagenes/Frecuencias/equi-500hz.jpg\" alt=\"cuadrado-ana\" width=\"500\"/>\n",
    "</div>\n",
    "<div style=\"text-align:center;\">\n",
    "  <img src=\"Imagenes/Frecuencias/equi-2khz.jpg\" alt=\"cuadrado-ana\" width=\"500\"/>\n",
    "</div>\n",
    "Al igual que en el caso anterior se puede ver que el filtro mantiene de forma correcta las señal, sin perturbaciones relevantes.\n",
    "\n",
    "### Least Squares:\n",
    "A continuacion se mostraran la respues del filtro en tiempo al ser exitada por una frecuencia de 600Hz y 3k5Hz.\n",
    "\n",
    "<div style=\"text-align:center;\">\n",
    "  <img src=\"Imagenes/Frecuencias/square-600hz.jpg\" alt=\"cuadrado-ana\" width=\"500\"/>\n",
    "</div>\n",
    "<div style=\"text-align:center;\">\n",
    "  <img src=\"Imagenes/Frecuencias/square-3k5hz.jpg\" alt=\"cuadrado-ana\" width=\"500\"/>\n",
    "</div>\n",
    "A diferencia de los filtros anteriiores podemos obserbar que en la banda de paso el filtro deforma levemente la señal, sin embargo la deformacion que sufre el filtro en la banda de rechazo es conciderable, teniendo para esta frecuencia una salida conciderablemente diferente.\n",
    "\n",
    "## Resultados filtro IIR:\n",
    "A continuacion se mostraran la respues del filtro en tiempo al ser exitada por una frecuencia de 100Hz y 3kHz.\n",
    "<div style=\"text-align:center;\">\n",
    "  <img src=\"Imagenes/Frecuencias/iir-buter-100hz.jpg\" alt=\"cuadrado-ana\" width=\"500\"/>\n",
    "</div>\n",
    "<div style=\"text-align:center;\">\n",
    "  <img src=\"Imagenes/Frecuencias/iir-buter-3khz.jpg\" alt=\"cuadrado-ana\" width=\"500\"/>\n",
    "</div>\n",
    "Al igual que en el caso anterior el filtro digital tiene problemas para todas las frecuencias para filtrar la señal sin deformarla, en especial en la sona de rechazo donde la salida del filtro no mantiene ni la frecuencia ni la magnitud de la señal original."
   ]
  },
  {
   "cell_type": "markdown",
   "id": "2e39aa34-431d-4735-9f18-e7d61bcc745f",
   "metadata": {},
   "source": [
    "\n"
   ]
  },
  {
   "cell_type": "markdown",
   "id": "bb0c0387-0e51-4f20-866a-0104208fb0f9",
   "metadata": {},
   "source": [
    "# Conclucion:\n",
    "A lo largo de este proyecto, se lograron obtener los diversos filtros digitales solicitados, permitiendo la observación de notables ventajas y desventajas en comparación con los filtros analógicos desarrollados en el trabajo práctico anterior. Las ventajas identificadas en los filtros digitales incluyen su facilidad de diseño, facilitada por herramientas como Matlab, PyFDA y Python. Otra ventaja significativa es su flexibilidad para modificar el comportamiento, permitiendo la simulación de una variedad infinita de filtros mediante la modificación del código. Finalmente, se destaca su excepcional capacidad de selectividad en comparación con los filtros analógicos.\n",
    "\n",
    "No obstante, es crucial considerar una desventaja significativa relacionada con los problemas encontrados al momento de recrear la señal filtrada ingresada. Los filtros más afectados fueron el IIR y el least squares, aunque todos exhibieron alguna deformación mínima o sobrepico. Además, se identificaron limitaciones de hardware que imponían restricciones en la frecuencia máxima de funcionamiento y los valores máximos de tensión. "
   ]
  }
 ],
 "metadata": {
  "kernelspec": {
   "display_name": "Python 3 (ipykernel)",
   "language": "python",
   "name": "python3"
  },
  "language_info": {
   "codemirror_mode": {
    "name": "ipython",
    "version": 3
   },
   "file_extension": ".py",
   "mimetype": "text/x-python",
   "name": "python",
   "nbconvert_exporter": "python",
   "pygments_lexer": "ipython3",
   "version": "3.10.12"
  }
 },
 "nbformat": 4,
 "nbformat_minor": 5
}
