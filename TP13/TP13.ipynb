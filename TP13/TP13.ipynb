{
 "cells": [
  {
   "cell_type": "markdown",
   "id": "ac2873ff-2e4a-453d-8cea-0d26f63d9308",
   "metadata": {},
   "source": [
    "# Trabajo semanal 13. Síntesis doblemente cargada\n",
    "## Diseñe el cuadripolo A para que se comporte como:\n",
    "\n",
    "- filtro pasa bajos Bessel de 3er. orden\n",
    "- no disipativo\n",
    "- normalizado en frecuencia e impedancia\n",
    "\n",
    "\n",
    "1) Obtenga la impedancia de entrada al cuadripolo A, cargado con un resistor de 1Ω a la salida.\n",
    "2) Sintetice A como un cuadripolo escalera.\n",
    "3) Simule el comportamiento de la red en LTspice graficando S21 y S11 en función de la frecuencia. (Ver explicación de Agustín Alba Chicar 1h 48m)\n",
    "4) Explique el comportamiento de A a partir de los valores de S11 en las siguientes frecuencias:\n",
    "    - centro de la banda de paso\n",
    "    - frecuencia de corte\n",
    "    - transición y centro de la banda de detenida\n",
    "5) Modifique el circuito para que la frecuencia de corte sea 2 π 10⁶ rad/s y la resistencia del generador sea 50Ω.\n"
   ]
  },
  {
   "cell_type": "code",
   "execution_count": 2,
   "id": "52edfc33-719e-4c5f-8e35-bda2215aa082",
   "metadata": {},
   "outputs": [
    {
     "data": {
      "text/html": [
       "\n",
       "        <iframe\n",
       "            width=\"1000\"\n",
       "            height=\"1000\"\n",
       "            src=\"tp13.pdf\"\n",
       "            frameborder=\"0\"\n",
       "            allowfullscreen\n",
       "            \n",
       "        ></iframe>\n",
       "        "
      ],
      "text/plain": [
       "<IPython.lib.display.IFrame at 0x7f4d1fedd180>"
      ]
     },
     "execution_count": 2,
     "metadata": {},
     "output_type": "execute_result"
    }
   ],
   "source": [
    "from IPython.display import IFrame\n",
    "IFrame(\"tp13.pdf\", width=1000, height=1000)"
   ]
  },
  {
   "cell_type": "markdown",
   "id": "90bc2184-8e16-4048-85a0-8fe6c6f49bad",
   "metadata": {},
   "source": [
    "## Simulaciones de Ltspice:"
   ]
  },
  {
   "cell_type": "code",
   "execution_count": 3,
   "id": "30041dd5-0267-41af-ac0c-1255fbca4f01",
   "metadata": {},
   "outputs": [
    {
     "data": {
      "text/html": [
       "\n",
       "        <iframe\n",
       "            width=\"1000\"\n",
       "            height=\"1000\"\n",
       "            src=\"spice.pdf\"\n",
       "            frameborder=\"0\"\n",
       "            allowfullscreen\n",
       "            \n",
       "        ></iframe>\n",
       "        "
      ],
      "text/plain": [
       "<IPython.lib.display.IFrame at 0x7f4d1fedcf70>"
      ]
     },
     "execution_count": 3,
     "metadata": {},
     "output_type": "execute_result"
    }
   ],
   "source": [
    "IFrame(\"spice.pdf\", width=1000, height=1000)"
   ]
  },
  {
   "cell_type": "markdown",
   "id": "61d79e63-ff84-4a5f-8049-f2d5fecffc9f",
   "metadata": {},
   "source": [
    "## 5):\n",
    "Dado que el filtro es un pasa bajos el centro de la banda de paso dse encuentra en donde la transferencia de tension y la transmision de onda ($S_{12}$) llegan a su maxima valor por otro lado en ese mismo punto la refelexion de onda tiene un cero alcanzando su maxima atenuacion. Caso contrario sucede en el centro de la banda detenida en la cual los pociciones se invierten, siendo en este punto donde $S{12}$ y la transferencia de tension obtienen su mayor atenuacion y la relexision alcanza su mayor valor, 0db. Esta propiedad es propia de los circuitos no disipativos en los cuales los parametros $S{12}$ y $S{11}$ cuantan con propiedades opuestas.\n",
    "Por otro lado podemos observar dos puntos interesantes de observar, la frecuencia de corte y la zona de transicion. Se puede observar que en la frecuencia de corte el parametro $S{12}$ herreda el comportamiento de la transferencia de tension pero desplazada 6db esto se debe a que el parametro $S{12}$ es un parametro medido desde la entrada del cuadripolo, no conciderando la resistencia del generadro."
   ]
  },
  {
   "cell_type": "code",
   "execution_count": null,
   "id": "2e6e1e3b-d881-4ef6-8337-9f9af6e0042a",
   "metadata": {},
   "outputs": [],
   "source": []
  }
 ],
 "metadata": {
  "kernelspec": {
   "display_name": "Python 3 (ipykernel)",
   "language": "python",
   "name": "python3"
  },
  "language_info": {
   "codemirror_mode": {
    "name": "ipython",
    "version": 3
   },
   "file_extension": ".py",
   "mimetype": "text/x-python",
   "name": "python",
   "nbconvert_exporter": "python",
   "pygments_lexer": "ipython3",
   "version": "3.10.12"
  }
 },
 "nbformat": 4,
 "nbformat_minor": 5
}
