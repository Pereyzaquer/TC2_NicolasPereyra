{
 "cells": [
  {
   "cell_type": "markdown",
   "id": "83043a24-7767-4f9c-ba11-624e1ca40104",
   "metadata": {},
   "source": [
    "## Trabajo semanal 12. Síntesis de cuadripolos simplemente cargadas\n",
    "\n",
    "# 1) Ejercicio 5 TP 7\n",
    "\n",
    "Sintetice la siguiente transferencia cargada con componentes RC:  \n",
    "\n",
    "$\\frac{−I2}{I1}=H\\frac{s²+5s+4}{s²+8s+12}$\n",
    "\n",
    "\n",
    "$Z_{21}=6H$\n",
    "\n",
    "\n",
    "a) Obtener la topología mediante la síntesis gráfica, es decir la red sin valores.\n",
    "b) Calcular el valor de los componentes, es decir la síntesis analítica.\n",
    "c) Verificar la red hallada en b) y averiguar el valor de H.\n",
    "\n",
    "# 2) Dada la siguiente transferencia de impedancia:\n",
    "\n",
    "$T(s)=\\frac{V2}{I1}=k.\\frac{(s²+9)}{s³+2.s²+2.s+1}$\n",
    "\n",
    "\n",
    "a) Sintetizar un cuadripolo pasivo sin pérdidas, que cumpla con la transimpedancia indicada, cargado a la salida con una impedancia como se muestra en la figura.\n",
    "\n",
    "b) Verificar la transimpedancia del circuito obtenido."
   ]
  },
  {
   "cell_type": "code",
   "execution_count": 1,
   "id": "35e40425-86b9-45f3-ba0f-a8d7d217d8eb",
   "metadata": {},
   "outputs": [
    {
     "data": {
      "text/html": [
       "\n",
       "        <iframe\n",
       "            width=\"1000\"\n",
       "            height=\"1000\"\n",
       "            src=\"Doc1.pdf\"\n",
       "            frameborder=\"0\"\n",
       "            allowfullscreen\n",
       "            \n",
       "        ></iframe>\n",
       "        "
      ],
      "text/plain": [
       "<IPython.lib.display.IFrame at 0x7fa284421e70>"
      ]
     },
     "execution_count": 1,
     "metadata": {},
     "output_type": "execute_result"
    }
   ],
   "source": [
    "from IPython.display import IFrame\n",
    "IFrame(\"Doc1.pdf\", width=1000, height=1000)"
   ]
  },
  {
   "cell_type": "code",
   "execution_count": null,
   "id": "269d5e56-bff8-4c79-8e5c-278d518abcfe",
   "metadata": {},
   "outputs": [],
   "source": []
  }
 ],
 "metadata": {
  "kernelspec": {
   "display_name": "Python 3 (ipykernel)",
   "language": "python",
   "name": "python3"
  },
  "language_info": {
   "codemirror_mode": {
    "name": "ipython",
    "version": 3
   },
   "file_extension": ".py",
   "mimetype": "text/x-python",
   "name": "python",
   "nbconvert_exporter": "python",
   "pygments_lexer": "ipython3",
   "version": "3.10.12"
  }
 },
 "nbformat": 4,
 "nbformat_minor": 5
}
